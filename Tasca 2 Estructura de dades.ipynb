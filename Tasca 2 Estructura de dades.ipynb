{
 "cells": [
  {
   "cell_type": "markdown",
   "metadata": {},
   "source": [
    "# **Sprint 3** - Tasca 2: Estructura de dades"
   ]
  },
  {
   "cell_type": "markdown",
   "metadata": {},
   "source": [
    "## Exercici 1"
   ]
  },
  {
   "cell_type": "code",
   "execution_count": 2,
   "metadata": {},
   "outputs": [
    {
     "name": "stdout",
     "output_type": "stream",
     "text": [
      "[['gener', 'febrer', 'març'], ['abril', 'maig', 'juny'], ['juliol', 'agost', 'setembre'], ['octubre', 'novembre', 'desembre']]\n"
     ]
    }
   ],
   "source": [
    "any = [['gener','febrer','març'],['abril','maig','juny'],['juliol','agost','setembre'],['octubre','novembre','desembre']]\n",
    "print(any)"
   ]
  },
  {
   "cell_type": "markdown",
   "metadata": {},
   "source": [
    "## Exercici 2"
   ]
  },
  {
   "cell_type": "code",
   "execution_count": 3,
   "metadata": {},
   "outputs": [
    {
     "name": "stdout",
     "output_type": "stream",
     "text": [
      "febrer\n"
     ]
    }
   ],
   "source": [
    "segonMesPrimerTrimestre = any[0][1]\n",
    "print(segonMesPrimerTrimestre)"
   ]
  },
  {
   "cell_type": "code",
   "execution_count": 4,
   "metadata": {},
   "outputs": [
    {
     "name": "stdout",
     "output_type": "stream",
     "text": [
      "['gener', 'febrer', 'març']\n"
     ]
    }
   ],
   "source": [
    "mesosPrimerTrimestre = any[0]\n",
    "print(mesosPrimerTrimestre)"
   ]
  },
  {
   "cell_type": "code",
   "execution_count": 6,
   "metadata": {},
   "outputs": [
    {
     "name": "stdout",
     "output_type": "stream",
     "text": [
      "['setembre', 'octubre']\n"
     ]
    }
   ],
   "source": [
    "setembreOctubre = [any[2][2],any[3][0]]\n",
    "print(setembreOctubre)"
   ]
  },
  {
   "cell_type": "markdown",
   "metadata": {},
   "source": [
    "## Exercici 3"
   ]
  },
  {
   "cell_type": "code",
   "execution_count": 2,
   "metadata": {},
   "outputs": [
    {
     "name": "stdout",
     "output_type": "stream",
     "text": [
      "La llista generada és : [74, 5, 55, 62, 99, 2, 27, 60, 63, 36, 84, 21, 98, 67, 91, 42, 10, 32, 47, 6, 54, 18, 46, 49, 79, 37, 34, 59, 23, 39, 81, 78, 72, 31, 57, 76, 3, 38, 1, 16, 9, 13, 20, 35, 24, 50, 92, 88, 43, 90]\n"
     ]
    }
   ],
   "source": [
    "import random\n",
    "\n",
    "#fixem el seed number per obtenir sempre el mateix resultat al generar la llista\n",
    "random.seed(10)\n",
    "\n",
    "# generem la llista agafant aleatoriament valors d'un rang\n",
    "llista = random.sample(range(1, 100), 50)\n",
    "\n",
    "# imprimim resultat\n",
    "print (\"La llista generada és : \" + str(llista))\n"
   ]
  },
  {
   "cell_type": "code",
   "execution_count": 5,
   "metadata": {},
   "outputs": [
    {
     "name": "stdout",
     "output_type": "stream",
     "text": [
      "La llista conté 50 números\n"
     ]
    }
   ],
   "source": [
    "print (\"La llista conté \" + str(len(llista)) + \" números\")\n"
   ]
  },
  {
   "cell_type": "code",
   "execution_count": 8,
   "metadata": {},
   "outputs": [
    {
     "name": "stdout",
     "output_type": "stream",
     "text": [
      "El néumero 3 apareix 1 vegada/es\n"
     ]
    }
   ],
   "source": [
    "print (\"El néumero 3 apareix \" + str(llista.count(3)) + \" vegada/es\")\n"
   ]
  },
  {
   "cell_type": "code",
   "execution_count": 10,
   "metadata": {},
   "outputs": [
    {
     "name": "stdout",
     "output_type": "stream",
     "text": [
      "Els números 3 i 4 apareixen 1 vegada/es\n"
     ]
    }
   ],
   "source": [
    "print (\"Els números 3 i 4 apareixen \" + str(llista.count(3)+llista.count(4)) + \" vegada/es\")\n"
   ]
  },
  {
   "cell_type": "code",
   "execution_count": 15,
   "metadata": {},
   "outputs": [
    {
     "name": "stdout",
     "output_type": "stream",
     "text": [
      "El número més gran és 99\n"
     ]
    }
   ],
   "source": [
    "print (\"El número més gran és \" + str(max(llista)))\n"
   ]
  },
  {
   "cell_type": "code",
   "execution_count": 23,
   "metadata": {},
   "outputs": [
    {
     "name": "stdout",
     "output_type": "stream",
     "text": [
      "Els 3 números més petits son: 1, 2 i 3\n"
     ]
    }
   ],
   "source": [
    "# ordenem la llista\n",
    "llista.sort()\n",
    "\n",
    "# el resultat seran les 3 primeres posicions de la llista\n",
    "print(\"Els 3 números més petits son: {}, {} i {}\".format(*llista[:3]))\n",
    "\n"
   ]
  },
  {
   "cell_type": "code",
   "execution_count": 26,
   "metadata": {},
   "outputs": [
    {
     "name": "stdout",
     "output_type": "stream",
     "text": [
      "El rang d'aquesta llista és: 98\n"
     ]
    }
   ],
   "source": [
    "# entenem el rang com la diferència entre el valor màxim i el mínim de la llista\n",
    "print(\"El rang d'aquesta llista és: {}\".format(max(llista)-min(llista)))\n",
    "\n"
   ]
  },
  {
   "cell_type": "markdown",
   "metadata": {},
   "source": [
    "## Exercici 4"
   ]
  },
  {
   "cell_type": "code",
   "execution_count": 72,
   "metadata": {},
   "outputs": [
    {
     "name": "stdout",
     "output_type": "stream",
     "text": [
      "El diccionari generat és : {'Pomes': {'Qty': 5, '€': 0.42}, 'Peres': {'Qty': 3, '€': 0.66}}\n"
     ]
    }
   ],
   "source": [
    "# creem el diccionari\n",
    "compra = { \"Pomes\" : {\"Qty\": 5, \"€\": 0.42}, \"Peres\" : {\"Qty\": 3, \"€\": 0.66} }\n",
    "\n",
    "# imprimim resultat\n",
    "print (\"El diccionari generat és : \" + str(compra))"
   ]
  },
  {
   "cell_type": "code",
   "execution_count": 73,
   "metadata": {},
   "outputs": [
    {
     "name": "stdout",
     "output_type": "stream",
     "text": [
      "El diccionari generat és : {'Pomes': {'Qty': 5, '€': 0.42}, 'Peres': {'Qty': 3, '€': 0.66}, 'Mandarines': {'Qty': 7, '€': 0.23}}\n"
     ]
    }
   ],
   "source": [
    "# afegim una fruita\n",
    "compra[\"Mandarines\"] = {\"Qty\": 7, \"€\": 0.23}\n",
    "\n",
    "# imprimim resultat\n",
    "print (\"El diccionari generat és : \" + str(compra))"
   ]
  },
  {
   "cell_type": "code",
   "execution_count": 74,
   "metadata": {},
   "outputs": [
    {
     "name": "stdout",
     "output_type": "stream",
     "text": [
      "Les 3 Peres han costat en total : 1.98 €\n"
     ]
    }
   ],
   "source": [
    "# fruita buscada\n",
    "fruita = 'Peres'\n",
    "\n",
    "# imprimim resultat\n",
    "print (\"Les {} {} han costat en total : {} €\".format(compra[fruita][\"Qty\"], fruita, compra[fruita][\"Qty\"]*compra[fruita][\"€\"]))"
   ]
  },
  {
   "cell_type": "code",
   "execution_count": 75,
   "metadata": {},
   "outputs": [
    {
     "name": "stdout",
     "output_type": "stream",
     "text": [
      "En total hem comprat 15 peces de fruita\n"
     ]
    }
   ],
   "source": [
    "# fem servir la sum() del valor Qty recorrent el diccionari de diccionaris\n",
    "print (\"En total hem comprat {} peces de fruita\".format(sum(f['Qty'] for f in compra.values() if f)))"
   ]
  },
  {
   "cell_type": "code",
   "execution_count": 81,
   "metadata": {},
   "outputs": [
    {
     "name": "stdout",
     "output_type": "stream",
     "text": [
      "La fruita més cara es Peres amb un preu de 0.66 €\n"
     ]
    }
   ],
   "source": [
    "maxFruitPrice = 0\n",
    "\n",
    "# recorrem el diccionari amb dues variables per tenir en una el nom de la fruita \n",
    "# i a l altre el diccionari que la representa\n",
    "for name, fruit in compra.items():\n",
    "    if fruit['€'] > maxFruitPrice:\n",
    "        maxFruitPrice = fruit['€']\n",
    "        maxFruitName = name\n",
    "\n",
    "print (\"La fruita més cara es {} amb un preu de {} €\".format(maxFruitName, maxFruitPrice))\n"
   ]
  },
  {
   "cell_type": "code",
   "execution_count": null,
   "metadata": {},
   "outputs": [],
   "source": []
  }
 ],
 "metadata": {
  "kernelspec": {
   "display_name": "Python 3",
   "language": "python",
   "name": "python3"
  },
  "language_info": {
   "codemirror_mode": {
    "name": "ipython",
    "version": 3
   },
   "file_extension": ".py",
   "mimetype": "text/x-python",
   "name": "python",
   "nbconvert_exporter": "python",
   "pygments_lexer": "ipython3",
   "version": "3.8.5"
  }
 },
 "nbformat": 4,
 "nbformat_minor": 2
}
